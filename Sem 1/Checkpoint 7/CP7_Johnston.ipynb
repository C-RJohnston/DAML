{
 "cells": [
  {
   "cell_type": "markdown",
   "metadata": {},
   "source": [
    "# Checkpoint 7: Systematic Errors\n",
    "\n",
    "`datafile-expresonance.txt` contains 10,000 measurements from a mass distribution, where m = mass.\n",
    "\n",
    "It is described by:\n",
    "- A fraction F=0.98 of events from a background exponential ~ exp(-m/A) where A = 5 \n",
    "- A fraction (1-F) =0.02 of a signal Gaussian\n",
    "- Gaussian mean M = 2.5 and width of 0.2\n",
    "- There are only events in the range 0-10"
   ]
  },
  {
   "cell_type": "code",
   "execution_count": 22,
   "metadata": {},
   "outputs": [],
   "source": [
    "# preamble\n",
    "import numpy as np\n",
    "import seaborn as sns\n",
    "from scipy.stats import norm, crystalball, skewnorm\n",
    "import scipy.integrate as integrate\n",
    "from matplotlib import pyplot as plt\n",
    "\n",
    "from iminuit import Minuit\n",
    "from iminuit.cost import UnbinnedNLL"
   ]
  },
  {
   "cell_type": "code",
   "execution_count": 23,
   "metadata": {},
   "outputs": [
    {
     "data": {
      "text/plain": [
       "<AxesSubplot:ylabel='Count'>"
      ]
     },
     "execution_count": 23,
     "metadata": {},
     "output_type": "execute_result"
    },
    {
     "data": {
      "image/png": "[encoded data removed]",
      "text/plain": [
       "<Figure size 432x288 with 1 Axes>"
      ]
     },
     "metadata": {
      "needs_background": "light"
     },
     "output_type": "display_data"
    }
   ],
   "source": [
    "# load in data\n",
    "mass = np.loadtxt('datafile-expresonance.txt')\n",
    "\n",
    "#plot the data\n",
    "sns.histplot(mass)"
   ]
  },
  {
   "cell_type": "markdown",
   "metadata": {},
   "source": [
    "## Checkpoint 7 - Part 1\n",
    "1. Fit to these data with the above model to determine the best fit parameters for F, A and M \n",
    "2. Determine the statistical errors on each fit parameter\n",
    "    * If using optimise you will have to write a bit of code to find the NLL+0.5 points\n",
    "    * If using Minuit then errors come free in the fit - but remember to set errordef=0.5\n",
    "3. Present the best fit values and errors on all parameters in clear way, i.e. with descriptive text \n",
    "and numerical results presented as: M = Value ± Estat\n",
    "4. Make sure the number of digits quoted is sensible – quote errors to 2 significant digits"
   ]
  },
  {
   "cell_type": "code",
   "execution_count": 24,
   "metadata": {},
   "outputs": [],
   "source": [
    "def combined_pdf(x, f, a, m, x_min, x_max):\n",
    "    scaling = np.exp( - x_min / a) - np.exp( - x_max / a)\n",
    "    return (1 - f) * norm.pdf(x, m, 0.2) + f * 1 / a * np.exp( - x / a) / scaling"
   ]
  },
  {
   "cell_type": "code",
   "execution_count": 25,
   "metadata": {},
   "outputs": [
    {
     "name": "stdout",
     "output_type": "stream",
     "text": [
      "integral of the pdf over the whole range: 1.0000000000000002\n",
      "f = 0.98 +/- 0.00082\n",
      "a = 5.0 +/- 0.022\n",
      "m = 2.5 +/- 0.010\n",
      "x_min = 0.0 +/- 0.10\n",
      "x_max = 10. +/- 0.10\n"
     ]
    }
   ],
   "source": [
    "# check if the pdf is normalised, should be very close to 1\n",
    "print(\"integral of the pdf over the whole range:\",integrate.quad(lambda x: combined_pdf(x, 0.98, 5, 2.5, 0, 10), 0, 10)[0])\n",
    "\n",
    "# use Minuit to perform a maximum likelihood estimation\n",
    "cost = UnbinnedNLL(mass, combined_pdf)\n",
    "# create the object with initual guesses for the parameters\n",
    "m = Minuit(cost, f=0.98, a=5, m=2.5, x_min=0, x_max=10)\n",
    "m.errordef = 0.5\n",
    "m.limits['f'] = (0, 1)\n",
    "m.fixed['x_min'] = True\n",
    "m.fixed['x_max'] = True\n",
    "m.migrad()\n",
    "m.hesse()\n",
    "# display the estimations and the errors\n",
    "for p, v, e in zip(m.parameters, m.values, m.errors):\n",
    "    # round to 2 sig fig\n",
    "    v = np.format_float_positional(v, precision=2, unique=False, fractional=False, trim='k')\n",
    "    e = np.format_float_positional(e, precision=2, unique=False, fractional=False, trim='k')\n",
    "    print(f\"{p} = {v} +/- {e}\")\n",
    "\n",
    "# get the value of the mass, for part 2\n",
    "m_index = m.parameters.index('m')\n",
    "mass = m.values[m_index]\n",
    "mass_error = m.errors[m_index]"
   ]
  },
  {
   "cell_type": "markdown",
   "metadata": {},
   "source": [
    "## Checkpoint 7 - Part 2\n",
    "1. Determine a systematic error on the mean of the Gaussian (M) by the “shift” method\n",
    "2. Fit to the same data using the same Gaussian signal model but now using **a 2nd order \n",
    "polynomial background model**\n",
    "3. Present the results clearly as Value ± Estat ± Esyst\n",
    "4. Present the results as Value ± Etot\n",
    "5. Comment on the importance of the systematic error compared to the statistical error \n",
    "for the measurement of M"
   ]
  },
  {
   "cell_type": "code",
   "execution_count": 26,
   "metadata": {},
   "outputs": [
    {
     "name": "stdout",
     "output_type": "stream",
     "text": [
      "integral of the pdf for crystal ball: 0.9826055584515648\n",
      "integral of the pdf for skew norm: 1.0\n"
     ]
    }
   ],
   "source": [
    "##########\n",
    "# Part 1 #\n",
    "##########\n",
    "\n",
    "# Using the shift method on the signal\n",
    "\n",
    "# defining the pdf using the crystal ball method\n",
    "def combined_pdf_cb(x, f, a, m, x_min, x_max):\n",
    "    scaling = np.exp( - x_min / a) - np.exp( - x_max / a)\n",
    "    return (1 - f) * crystalball.pdf(x, 0.2, m) + f * 1 / a * np.exp( - x / a) / scaling\n",
    "\n",
    "# defining the pdf using the skew norm method\n",
    "def combined_pdf_sn(x, f, a, m, x_min, x_max):\n",
    "    scaling = np.exp( - x_min / a) - np.exp( - x_max / a)\n",
    "    return (1 - f) * skewnorm.pdf(x, loc=m, scale=0.2, a=3) + f * 1 / a * np.exp( - x / a) / scaling\n",
    "\n",
    "# check if the pdf is normalised, should be very close to 1\n",
    "print(\"integral of the pdf for crystal ball:\",integrate.quad(lambda x: combined_pdf_cb(x, 0.98, 5, 2.5, 0, 10), 0, 10)[0])\n",
    "print(\"integral of the pdf for skew norm:\",integrate.quad(lambda x: combined_pdf_sn(x, 0.98, 5, 2.5, 0, 10), 0, 10)[0])\n",
    "\n",
    "# perform the same analysis as step 1 for the different methods\n",
    "cost_cb = UnbinnedNLL(mass, combined_pdf_cb)\n",
    "m_cb = Minuit(cost_cb, f=0.98, a=5, m=2.5, x_min=0, x_max=10)\n",
    "m_cb.errordef = 0.5\n",
    "m_cb.limits['f'] = (0, 1)\n",
    "m_cb.fixed['x_min'] = True\n",
    "m_cb.fixed['x_max'] = True\n",
    "m_cb.migrad()\n",
    "m_cb.hesse()\n",
    "\n",
    "# get the value of the mass\n",
    "m_index = m_cb.parameters.index('m')\n",
    "mass_cb = m_cb.values[m_index]\n",
    "\n",
    "\n",
    "cost_sn = UnbinnedNLL(mass, combined_pdf_sn)\n",
    "m_sn = Minuit(cost_sn, f=0.98, a=5, m=2.5, x_min=0, x_max=10)\n",
    "m_sn.errordef = 0.5\n",
    "m_sn.limits['f'] = (0, 1)\n",
    "m_sn.fixed['x_min'] = True\n",
    "m_sn.fixed['x_max'] = True\n",
    "m_sn.migrad()\n",
    "m_sn.hesse()\n",
    "\n",
    "# get the value of the mass\n",
    "m_index = m_sn.parameters.index('m')\n",
    "mass_sn = m_sn.values[m_index]\n",
    "\n",
    "sys_error = mass / mass_cb / mass_sn"
   ]
  },
  {
   "cell_type": "code",
   "execution_count": 27,
   "metadata": {},
   "outputs": [
    {
     "name": "stdout",
     "output_type": "stream",
     "text": [
      "integral of the pdf for crystal ball: 1.0\n",
      "E VariableMetricBuilder Initial matrix not pos.def.\n"
     ]
    },
    {
     "name": "stderr",
     "output_type": "stream",
     "text": [
      "C:\\Users\\Gamer2021\\anaconda3\\envs\\daml\\lib\\site-packages\\iminuit\\cost.py:18: RuntimeWarning: invalid value encountered in log\n",
      "  return np.sum(np.log(x + 1e-323))\n"
     ]
    }
   ],
   "source": [
    "##########\n",
    "# Part 2 #\n",
    "##########\n",
    "\n",
    "# calculate the error on the background using a polyfit\n",
    "\n",
    "# combined pdf using a polynomial fit for the background\n",
    "def combined_pdf_poly(x, f, b, c, m, x_min, x_max):\n",
    "    scaling = - (x_min + 0.5 * b * x_min ** 2 + (1 / 3) * c * x_min ** 3) + (x_max + 0.5 * b * x_max ** 2 + (1 / 3) * c * x_max ** 3)\n",
    "    # scaling = (1 + b * x_min + c * x_min ** 2) - (1 + b * x_max + c * x_max ** 2)\n",
    "    return (1 - f) * norm.pdf(x, m, 0.2) + f * (1 + b * x + c * x ** 2) / scaling\n",
    "\n",
    "\n",
    "# check if the pdf is normalised, should be very close to 1\n",
    "print(\"integral of the pdf for crystal ball:\",integrate.quad(lambda x: combined_pdf_poly(x, 0.98, -0.016, 0.007, 2.5, 0, 10), 0, 10)[0])\n",
    "\n",
    "# perform the same analysis as step 1 for the different methods\n",
    "cost_poly = UnbinnedNLL(mass, combined_pdf_poly)\n",
    "m_poly = Minuit(cost_poly, f=0.98, b=-0.016, c=0.007, m=2.5, x_min=0, x_max=10)\n",
    "m_poly.errordef = 0.5\n",
    "m_poly.limits['f'] = (0, 1)\n",
    "m_poly.fixed['x_min'] = True\n",
    "m_poly.fixed['x_max'] = True\n",
    "m_poly.migrad()\n",
    "m_poly.hesse()\n",
    "\n",
    "# get the value of the mass\n",
    "m_index = m_poly.parameters.index('m')\n",
    "mass_poly = m_poly.values[m_index]\n",
    "bkg_error = mass / mass_poly\n",
    "\n"
   ]
  },
  {
   "cell_type": "code",
   "execution_count": 28,
   "metadata": {},
   "outputs": [
    {
     "name": "stdout",
     "output_type": "stream",
     "text": [
      "mass in form mass = m_gauss +/- error_gauss +/- sys_error:\n",
      "m = 2.5 +/- 0.010 +/- 0.32\n",
      "mass in the form mass = m_gauss +/- error_gauss +/- sys_error +/- bkg_error\n",
      "m = 2.5 +/- 0.010 +/- 0.32 +/- 1.0\n"
     ]
    }
   ],
   "source": [
    "##########\n",
    "# Part 3 #\n",
    "##########\n",
    "# present the mass as mass = m_gauss +/- error_gauss +/- sys_error\n",
    "mass_str = np.format_float_positional(mass, precision=2, unique=False, fractional=False, trim='k')\n",
    "mass_error_str = np.format_float_positional(mass_error, precision=2, unique=False, fractional=False, trim='k')\n",
    "sys_error_str = np.format_float_positional(sys_error, precision=2, unique=False, fractional=False, trim='k')\n",
    "print(\"mass in form mass = m_gauss +/- error_gauss +/- sys_error:\")\n",
    "print(f\"m = {mass_str} +/- {mass_error_str} +/- {sys_error_str}\")\n",
    "\n",
    "# present the mass as mass = m_gauss +/- error_gauss +/- sys_error +/- bkg_error\n",
    "bkg_error_str = np.format_float_positional(bkg_error, precision=2, unique=False, fractional=False, trim='k')\n",
    "print(\"mass in the form mass = m_gauss +/- error_gauss +/- sys_error +/- bkg_error\")\n",
    "print(f\"m = {mass_str} +/- {mass_error_str} +/- {sys_error_str} +/- {bkg_error_str}\")"
   ]
  },
  {
   "cell_type": "code",
   "execution_count": 29,
   "metadata": {},
   "outputs": [
    {
     "name": "stdout",
     "output_type": "stream",
     "text": [
      "mass in the form mass = m_gauss +/- e_tot\n",
      "m = 2.5 +/- 1.0\n"
     ]
    }
   ],
   "source": [
    "##########\n",
    "# Part 4 #\n",
    "##########\n",
    "\n",
    "# present the error as mass = m_gauss +/- e_tot\n",
    "\n",
    "e_tot = np.sqrt(mass_error ** 2 + sys_error ** 2 + bkg_error ** 2)\n",
    "\n",
    "e_tot_str = np.format_float_positional(e_tot, precision=2, unique=False, fractional=False, trim='k')\n",
    "print(\"mass in the form mass = m_gauss +/- e_tot\")\n",
    "print(f\"m = {mass_str} +/- {e_tot_str}\")"
   ]
  },
  {
   "cell_type": "markdown",
   "metadata": {},
   "source": [
    "### Part 5\n",
    "\n",
    "While the statistical error highlights the deviation of the data from the model, the systematic error here is highlighting any biases in the data. The systematic error indicates a bias of 0.32 in the signal, and the background error indicates a bias of 1 to the background. "
   ]
  },
  {
   "cell_type": "markdown",
   "metadata": {},
   "source": [
    "## Checkpoint 7 - Part 3\n",
    "1. Determine a systematic error on the mean of the Gaussian by the \"shift\" method\n",
    "2. Fit to the same data using the same Gaussian signal model but now using **straight line background model** (bad model - this is harder)\n",
    "3. Present the result clearly as M ± Estat ± Esyst\n",
    "4. Present the results as M ± Etot\n",
    "5. Comment on the importance of the systematic error compared to the statistical error for the measurement of M"
   ]
  },
  {
   "cell_type": "code",
   "execution_count": 33,
   "metadata": {},
   "outputs": [
    {
     "name": "stdout",
     "output_type": "stream",
     "text": [
      "integral of the pdf for linear: 0.9999999999999999\n",
      "mass in the form mass = m_gauss +/- error_gauss +/- sys_error +/- bkg_error\n",
      "m = 2.5 +/- 0.010 +/- 0.32 +/- 1.0\n",
      "mass in the form mass = m_gauss +/- e_tot\n",
      "m = 2.5 +/- 1.1\n"
     ]
    }
   ],
   "source": [
    "##########\n",
    "# Part 1 #\n",
    "##########\n",
    "# use the same result of the previous question\n",
    "\n",
    "##########\n",
    "# Part 2 #\n",
    "##########\n",
    "\n",
    "# create a pdf for a straight line background model\n",
    "def combined_pdf_linear(x, f, a, b, m, x_min, x_max):\n",
    "    scaling = (0.5 * a * x_max ** 2 + b * x_max) - (0.5 * a * x_min ** 2 + b * x_min)\n",
    "    return (1 - f) * norm.pdf(x, m, 0.2) + f * (a * x + b) / scaling\n",
    "\n",
    "# check if the pdf integrates to unity\n",
    "print(\"integral of the pdf for linear:\",integrate.quad(lambda x: combined_pdf_linear(x, 0.98, 1, -0.09, 2.5, 0, 10), 0, 10)[0])\n",
    "\n",
    "# perform the same analysis as step 1 for the different methods\n",
    "cost_linear = UnbinnedNLL(mass, combined_pdf_linear)\n",
    "m_linear = Minuit(cost_linear, f=0.98, a=1, b=-0.09, m=2.5, x_min=0, x_max=10)\n",
    "m_linear.errordef = 0.5\n",
    "m_linear.limits['f'] = (0, 1)\n",
    "m_linear.fixed['x_min'] = True\n",
    "m_linear.fixed['x_max'] = True\n",
    "m_linear.migrad()\n",
    "m_linear.hesse()\n",
    "\n",
    "# get the value of the mass\n",
    "m_index = m_linear.parameters.index('m')\n",
    "mass_linear = m_linear.values[m_index]\n",
    "bkg_error = mass / mass_linear\n",
    "\n",
    "\n",
    "##########\n",
    "# Part 3 #\n",
    "##########\n",
    "\n",
    "# present the mass as mass = m_gauss +/- error_gauss +/- sys_error +/- bkg_error\n",
    "bkg_error_str = np.format_float_positional(bkg_error, precision=2, unique=False, fractional=False, trim='k')\n",
    "print(\"mass in the form mass = m_gauss +/- error_gauss +/- sys_error +/- bkg_error\")\n",
    "print(f\"m = {mass_str} +/- {mass_error_str} +/- {sys_error_str} +/- {bkg_error_str}\")\n",
    "\n",
    "##########\n",
    "# Part 4 #\n",
    "##########\n",
    "\n",
    "# present the error as mass = m_gauss +/- e_tot\n",
    "\n",
    "e_tot = np.sqrt(mass_error ** 2 + sys_error ** 2 + bkg_error ** 2)\n",
    "\n",
    "e_tot_str = np.format_float_positional(e_tot, precision=2, unique=False, fractional=False, trim='k')\n",
    "print(\"mass in the form mass = m_gauss +/- e_tot\")\n",
    "print(f\"m = {mass_str} +/- {e_tot_str}\")"
   ]
  }
 ],
 "metadata": {
  "interpreter": {
   "hash": "c124c719c4e506aecdd27c8c93bd1a4edcc9af0c1073d615dce323677b1b239c"
  },
  "kernelspec": {
   "display_name": "Python 3.7.12 64-bit ('daml': conda)",
   "language": "python",
   "name": "python3"
  },
  "language_info": {
   "codemirror_mode": {
    "name": "ipython",
    "version": 3
   },
   "file_extension": ".py",
   "mimetype": "text/x-python",
   "name": "python",
   "nbconvert_exporter": "python",
   "pygments_lexer": "ipython3",
   "version": "3.7.12"
  },
  "orig_nbformat": 4
 },
 "nbformat": 4,
 "nbformat_minor": 2
}
