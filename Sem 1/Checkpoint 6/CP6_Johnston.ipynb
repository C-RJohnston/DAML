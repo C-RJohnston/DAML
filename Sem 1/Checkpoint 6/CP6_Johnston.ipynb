{
 "cells": [
  {
   "cell_type": "markdown",
   "id": "42cdc81d",
   "metadata": {},
   "source": [
    "# Maximum Likelihood fitting"
   ]
  },
  {
   "cell_type": "markdown",
   "id": "b1ebc8d6",
   "metadata": {},
   "source": [
    "### Preamble"
   ]
  },
  {
   "cell_type": "code",
   "execution_count": 1,
   "id": "a7d29535",
   "metadata": {},
   "outputs": [],
   "source": [
    "import numpy as np\n",
    "from matplotlib import pyplot as plt\n",
    "import seaborn as sns\n",
    "from scipy.stats import norm\n",
    "import scipy.integrate as integrate\n",
    "from scipy.optimize import minimize\n",
    "\n",
    "from iminuit import Minuit\n",
    "from iminuit.cost import UnbinnedNLL"
   ]
  },
  {
   "cell_type": "markdown",
   "id": "e62d7f7d",
   "metadata": {},
   "source": [
    "## Part 1\n",
    " - Plot the data from ``datafile-exp.txt``\n",
    " - Implement a maximum likelihood fit to these data to determine the lifetime and its its error."
   ]
  },
  {
   "cell_type": "code",
   "execution_count": 2,
   "id": "8b4500f0",
   "metadata": {},
   "outputs": [],
   "source": [
    "def exp_pdf(x, tau):\n",
    "    return 1 / tau * np.exp( - x / tau)\n"
   ]
  },
  {
   "cell_type": "code",
   "execution_count": 3,
   "id": "23833565",
   "metadata": {},
   "outputs": [
    {
     "name": "stdout",
     "output_type": "stream",
     "text": [
      "tau = 2.096 +/- 0.021\n"
     ]
    },
    {
     "data": {
      "image/png": "[encoded data removed]",
      "text/plain": [
       "<Figure size 432x288 with 1 Axes>"
      ]
     },
     "metadata": {
      "needs_background": "light"
     },
     "output_type": "display_data"
    }
   ],
   "source": [
    "# plotting the data\n",
    "data_x = np.loadtxt(\"datafile-exp.txt\")\n",
    "sns.histplot(data_x, bins=100)\n",
    "# using minuit to minimise the negative of the log of the joint likelihood\n",
    "cost = UnbinnedNLL(data_x, exp_pdf)\n",
    "m = Minuit(cost, tau=2)\n",
    "\n",
    "m.migrad()\n",
    "m.hesse()\n",
    "print(f\"tau = {np.round(m.values[0],3)} +/- {np.round(m.errors[0],3)}\")"
   ]
  },
  {
   "cell_type": "markdown",
   "id": "611496c2",
   "metadata": {},
   "source": [
    "## Part 2\n",
    "``datafile-expresonance.txt`` contains 10,000 measurements from a more complicated (mass) distribution\n",
    "A fraction F=0.9 of events from an exponential shape with a ”lifetime” of 5.0 \n",
    "A fraction (1-F) =0.1 of a Gaussian with mean at 2.5 and width of 0.2\n",
    "There are only events in the range 0-10\n",
    "\n",
    " - plot the data from ``datafile-expresonance.txt``\n",
    " - Implement a maximum likelihood fit to these data to determine the best values of the three parameters\n",
    "     - Exponential parameter\n",
    "     - gaussian mean\n",
    "     - fraction F"
   ]
  },
  {
   "cell_type": "code",
   "execution_count": 29,
   "id": "cd1d9113",
   "metadata": {},
   "outputs": [],
   "source": [
    "def combined_pdf(x, tau, mu, f, x_min, x_max):\n",
    "    scaling = np.exp( - x_min / tau) - np.exp( - x_max / tau)\n",
    "    return (1 - f) * norm.pdf(x, mu, 0.2) + f * 1 / tau * np.exp( - x / tau) / scaling"
   ]
  },
  {
   "cell_type": "code",
   "execution_count": 31,
   "id": "56f6dc99",
   "metadata": {},
   "outputs": [
    {
     "data": {
      "image/png": "[encoded data removed]",
      "text/plain": [
       "<Figure size 432x288 with 1 Axes>"
      ]
     },
     "metadata": {
      "needs_background": "light"
     },
     "output_type": "display_data"
    },
    {
     "name": "stdout",
     "output_type": "stream",
     "text": [
      "0.9999999999999999\n"
     ]
    },
    {
     "data": {
      "image/png": "[encoded data removed]",
      "text/plain": [
       "<Figure size 432x288 with 1 Axes>"
      ]
     },
     "metadata": {
      "needs_background": "light"
     },
     "output_type": "display_data"
    },
    {
     "name": "stdout",
     "output_type": "stream",
     "text": [
      "tau = 5.043 +/- 0.103\n",
      "mu = 2.500 +/- 0.012\n",
      "f = 0.903 +/- 0.005\n",
      "x_min = 0.000 +/- 0.100\n",
      "x_max = 10.000 +/- 0.100\n"
     ]
    }
   ],
   "source": [
    "# plotting the data\n",
    "data_x = np.loadtxt(\"datafile-expresonance.txt\")\n",
    "sns.histplot(data_x, bins=100)\n",
    "plt.show()\n",
    "# check if the pdf is normalised, should be very close to 1\n",
    "print(integrate.quad(lambda x: combined_pdf(x, 5, 2.5, 0.9, 0, 10), 0, 10)[0])\n",
    "xs = np.linspace(0,9, 100)\n",
    "ys = [combined_pdf(x, 5, 2.5, 1, 0, 10) for x in xs]\n",
    "plt.plot(xs, ys)\n",
    "plt.show()\n",
    "# use Minuit to perform a maximum likelihood estimation\n",
    "cost = UnbinnedNLL(data_x, combined_pdf)\n",
    "# create the object with initual guesses for the parameters\n",
    "m = Minuit(cost, tau=5, mu=2.5, f=0.9, x_min=0, x_max=10)\n",
    "m.limits['f'] = (0, 1)\n",
    "m.fixed['x_min'] = True\n",
    "m.fixed['x_max'] = True\n",
    "m.migrad()\n",
    "m.hesse()\n",
    "\n",
    "# display the estimations and the errors\n",
    "for p, v, e in zip(m.parameters, m.values, m.errors):\n",
    "    print(f\"{p} = {v:.3f} +/- {e:.3f}\")"
   ]
  }
 ],
 "metadata": {
  "kernelspec": {
   "display_name": "Python 3 (ipykernel)",
   "language": "python",
   "name": "python3"
  },
  "language_info": {
   "codemirror_mode": {
    "name": "ipython",
    "version": 3
   },
   "file_extension": ".py",
   "mimetype": "text/x-python",
   "name": "python",
   "nbconvert_exporter": "python",
   "pygments_lexer": "ipython3",
   "version": "3.7.12"
  }
 },
 "nbformat": 4,
 "nbformat_minor": 5
}
