{
 "cells": [
  {
   "cell_type": "markdown",
   "id": "dbd71979",
   "metadata": {},
   "source": [
    "# Data selection, p-values, hypothesis testing and significance interpretation\n",
    "\n",
    "We review some of the simplest statistical tools in the HEP literature used for\n",
    "quantifying the importance of an apparent “peak-like” morphological deviation in\n",
    "the data in the presence of background. The tutorial demonstrates how to calculate\n",
    "p-values and carry out simple hypothesis testing with the help of small python\n",
    "scripts."
   ]
  },
  {
   "cell_type": "code",
   "execution_count": 1,
   "id": "915a4e06",
   "metadata": {},
   "outputs": [],
   "source": [
    "# preamble\n",
    "import numpy as np\n",
    "from collections.abc import Sequence\n",
    "from abc import ABC, abstractmethod, abstractproperty\n",
    "from matplotlib import pyplot as plt\n",
    "from scipy.integrate import quad\n",
    "from scipy.special import erfinv\n",
    "from scipy.stats import norm\n",
    "from scipy.optimize import curve_fit\n",
    "from scipy.stats import chi2"
   ]
  },
  {
   "cell_type": "markdown",
   "id": "d032cb00",
   "metadata": {},
   "source": [
    "## Generation of random distributions from a model\n",
    "The first preliminary task that we consider is the generation of (pseudo)random “data”\n",
    "samples that follow a parent model distribution. We will use a first-order (linear) polynomial to model the background, and a Gaussian to model the signal. Histograms are\n",
    "created separately for the signal and background distributions, and added together to\n",
    "produce what would appear as the “data” distribution containing both signal and background. In our example we inject a relatively small number of signal events (300) into a\n",
    "much larger background sample (of 10,000)"
   ]
  },
  {
   "cell_type": "markdown",
   "id": "e936c27a",
   "metadata": {},
   "source": [
    "### CP5, problem 1 (3 points):\n",
    "\n",
    "Create two classes, one called ``Linear`` (to model the background distribution), and a\n",
    "second one called ``Gaussian`` (to model the signal distribution). For both of them add an\n",
    "attribute ``mass`` array (to be initialised in the constructor) to hold the mass values that\n",
    "will make up the spectrum of the background and signal distributions. Add also a ``next()``\n",
    "member function to be used for drawing random x-values (ie. corresponding to the mass)\n",
    "according to the parent f(x) distribution. For class ``Gaussian`` use the built-in method\n",
    "``numpy.random.normal`` to draw random values. For class ``Linear`` use the “box” method\n",
    "(as discussed in previous lectures):"
   ]
  },
  {
   "cell_type": "code",
   "execution_count": 2,
   "id": "fd6e42bc",
   "metadata": {},
   "outputs": [],
   "source": [
    "# parent class\n",
    "class Distribution(ABC):\n",
    "    \n",
    "    def __init__(self):\n",
    "        self.mass = []\n",
    "    \n",
    "    @abstractmethod\n",
    "    def next(self):\n",
    "        \"\"\"\n",
    "        used for drawwing random x-values according to the parent f(x) distribution.\n",
    "        x-values will correspond to the mass\n",
    "        \"\"\""
   ]
  },
  {
   "cell_type": "code",
   "execution_count": 3,
   "id": "9db6f266",
   "metadata": {},
   "outputs": [],
   "source": [
    "# linear class\n",
    "class Linear(Distribution):\n",
    "    \n",
    "    def __init__(self, lolimit: float, hilimit: float, intercept: float, slope: float):\n",
    "        super().__init__()\n",
    "        self.lolimit = lolimit\n",
    "        self.hilimit = hilimit\n",
    "        self.intercept = intercept\n",
    "        self.slope = slope\n",
    "    \n",
    "    def evaluate (self, t) -> float:\n",
    "        return self.intercept + self.slope * t\n",
    "    \n",
    "    def maxval(self) -> float:\n",
    "        \"\"\"\n",
    "        returns a value greater than the maximum value in this range. This is a linear distribution so is done\n",
    "        simply by using a value higher than lolimit or hilimit depending on the value of slope\n",
    "        \"\"\"\n",
    "        if slope < 0:\n",
    "            return self.evaluate(self.lolimit)\n",
    "        else:\n",
    "            return self.evaluate(self.hilimit)\n",
    "    \n",
    "    def next(self) -> float:\n",
    "        while (True):\n",
    "            # start with uniform random number in [lolimit, hilimit)\n",
    "            x = np.random.uniform(self.lolimit, self.hilimit)\n",
    "            y1 = self.evaluate(x)\n",
    "            y2 = np.random.uniform(0,self.maxval())\n",
    "            if(y2 < y1):\n",
    "                filtered_x = x\n",
    "                self.mass.append(filtered_x)\n",
    "                return filtered_x"
   ]
  },
  {
   "cell_type": "code",
   "execution_count": 4,
   "id": "a316e6cb",
   "metadata": {},
   "outputs": [],
   "source": [
    "# Gaussian class\n",
    "class Gaussian(Distribution):\n",
    "    \n",
    "    def __init__(self, mean: float, sigma: float):\n",
    "        super().__init__()\n",
    "        self.mean = mean\n",
    "        self.sigma = sigma\n",
    "    \n",
    "    def integral(self, low:float, high: float):\n",
    "        return quad(lambda x: norm.pdf(x, self.mean, self.sigma), low, high)\n",
    "    \n",
    "    def next(self) -> float:\n",
    "        x = np.random.normal(self.mean, self.sigma)\n",
    "        self.mass.append(x)\n",
    "        return x"
   ]
  },
  {
   "cell_type": "markdown",
   "id": "a6213263",
   "metadata": {},
   "source": [
    "Now create class ``SignalWithBackground`` which will return the sum of the signal (``Signal``)\n",
    "and background (``Linear``) distributions weighted by the fractions of signal and background events:\n"
   ]
  },
  {
   "cell_type": "code",
   "execution_count": 5,
   "id": "16fcff9d",
   "metadata": {},
   "outputs": [],
   "source": [
    "class SignalWithBackground(Distribution):\n",
    "    def __init__(self, mean: float, sigma: float,\n",
    "                 sig_fraction: float, intercept: float,\n",
    "                 slope: float, XMIN: float, XMAX: float):\n",
    "        super().__init__()\n",
    "        self.signal = Gaussian(mean, sigma)\n",
    "        self.background = Linear(XMIN, XMAX, intercept, slope)\n",
    "        self.sig_fraction = sig_fraction\n",
    "        self.mass_sig = []\n",
    "        self.mass_bgd = []\n",
    "        self.mass = []\n",
    "    \n",
    "    # Draw random number form distribution\n",
    "    def next (self):\n",
    "        q = np.random.uniform()\n",
    "        if(q < self.sig_fraction):\n",
    "            # if here , we will draw x from signal distribution\n",
    "            filtered_x = self.signal.next()\n",
    "            self.mass_sig.append(filtered_x)\n",
    "        else:\n",
    "            # if here , we will draw x from background distribuion\n",
    "            filtered_x = self.background.next()\n",
    "            self.mass_bgd.append(filtered_x)\n",
    "            \n",
    "        self.mass.append(filtered_x)\n",
    "        return filtered_x"
   ]
  },
  {
   "cell_type": "code",
   "execution_count": 13,
   "id": "555da4e1",
   "metadata": {},
   "outputs": [],
   "source": [
    "# Main code to generate and plot a single experiment\n",
    "def singleToy(mean: float, sigma: float,\n",
    "              intercept: float, slope:float, XMIN: float, XMAX: float,\n",
    "              NBINS: float,\n",
    "              nevents_sig = 300 , nevents_bgd = 10000):\n",
    "    sig_fraction = nevents_sig /(nevents_bgd + nevents_sig)\n",
    "    # Create the pdf\n",
    "    pdf = SignalWithBackground(mean, sigma, sig_fraction, intercept, slope, XMIN, XMAX)\n",
    "    for i in range(nevents_sig + nevents_bgd):\n",
    "        pdf.next()\n",
    "    # retrieve the mass values for signal , background and their sum\n",
    "    data = pdf.mass\n",
    "    sig_data = pdf.mass_sig\n",
    "    bgd_data = pdf.mass_bgd\n",
    "    # plot things on same page\n",
    "    myRange = (XMIN , XMAX)\n",
    "    fig, axs = plt.subplots(3, 1, sharex='col')\n",
    "    axs[0].set_title (\"Signal distribution (\" + str(len(sig_data)) + \" entries)\")\n",
    "    axs[1].set_title (\"Background distribution (\" + str(len (bgd_data)) + \" entries)\")\n",
    "    axs[2].set_title (\"Total distribution (\" + str (len (data)) + \" entries)\")\n",
    "    axs[2].set_xlabel('X')\n",
    "    axs[0].hist(sig_data , bins = NBINS , range = myRange)\n",
    "    axs[1].hist(bgd_data , bins = NBINS)\n",
    "    axs[2].hist(data , bins = NBINS)\n",
    "    fig.tight_layout()\n",
    "    plt.savefig ('Example1.pdf')\n",
    "    plt.close()\n",
    "    return np.asarray(data)"
   ]
  },
  {
   "cell_type": "code",
   "execution_count": 7,
   "id": "5b8be4b1",
   "metadata": {},
   "outputs": [
    {
     "data": {
      "image/png": "[encoded data removed]",
      "text/plain": [
       "<Figure size 432x288 with 3 Axes>"
      ]
     },
     "metadata": {
      "needs_background": "light"
     },
     "output_type": "display_data"
    }
   ],
   "source": [
    "# background parameters\n",
    "XMIN = 0.\n",
    "XMAX = 20.\n",
    "intercept = 20.\n",
    "slope = -1.\n",
    "# signal parameters\n",
    "mean = 10.\n",
    "sigma = 0.5\n",
    "# chose number of bins that is appropriate for the size of the statistics sample\n",
    "NBINS = 100\n",
    "combined_data = singleToy(mean, sigma, intercept, slope, XMIN, XMAX, NBINS)"
   ]
  },
  {
   "cell_type": "markdown",
   "id": "6a2b7253",
   "metadata": {},
   "source": [
    "## p-values: quantifying background fluctuations\n",
    "\n",
    "We now assume that we have experimentally obtained a distribution like the one at the\n",
    "bottom of Fig. 1. The question that we are trying to answer is how likely it is that a mere\n",
    "background fluctuation can give us a similarly (or even more) interesting hint of a signal.\n",
    "The simplest way to answer this question is to carry out an event-counting experiment.\n",
    "The first assumption we make is that we know nothing about the potential presence\n",
    "of a signal at x = 10. We assume, however, that we have a perfect knowledge of the\n",
    "background distribution, nameley its shape (a linear polynomial p1 ·x+p0, with σp0 /p0 ≃\n",
    "σp1 /p1 ≃ 0) and absolute size (e.g. that we expect an average background population\n",
    "of 10,000 events between x = 0 and x = 20). For many physics processes, the observed\n",
    "background sample size will typically follow a Poisson distribution, namely fluctuate\n",
    "around a mean value λ, equal to the average (expected) number of background occurences.\n",
    "For large enough values of λ (here: λ = 10, 000) the distribution can be approximated\n",
    "by a Gaussian with µ = λ and σ =\n",
    "√µ. Since we know nothing about the potential\n",
    "presence of a signal, we can simply try to evaluate the probability that a Gaussian with\n",
    "µ = 10, 000 and σ =\n",
    "√µ = 100 can produce a number of events, k, at least as high as\n",
    "the observed value of 10,300 (see Fig. 1, bottom).\n"
   ]
  },
  {
   "cell_type": "markdown",
   "id": "305c52e7",
   "metadata": {},
   "source": [
    "Calculate the probability that a background-only process with λ = 10, 000 can fluctuate\n",
    "to give k ≥ 10, 300. The fastest way to do this is to employ the previously coded Gaussian\n",
    "class, by adding an ``integral()`` method, which can be easily implemented with method\n",
    "``scipy.integrate.quad``. You will need to take the ratio of two such integrals."
   ]
  },
  {
   "cell_type": "code",
   "execution_count": 8,
   "id": "11aa8372",
   "metadata": {},
   "outputs": [
    {
     "name": "stdout",
     "output_type": "stream",
     "text": [
      "z-score: 3.21σ\n"
     ]
    }
   ],
   "source": [
    "_lambda = 10_000\n",
    "k = 10_300\n",
    "sigma = _lambda\n",
    "mu = np.sqrt(sigma)\n",
    "g = Gaussian(sigma, mu)\n",
    "pvalue = g.integral(k, np.inf)[0]\n",
    "n_sigmas = erfinv(1 - pvalue) * np.sqrt(2)\n",
    "print(f\"z-score: {round(n_sigmas,2)}σ\")"
   ]
  },
  {
   "cell_type": "markdown",
   "id": "b6706205",
   "metadata": {},
   "source": [
    "Now, let us assume that we know somehow that a potential signal in the data sample must\n",
    "be somewhere around $x = 10$. We may not know the exact value of the Gaussian mean,\n",
    "but we (assume that we) are pretty confident that it is not in the $x < 5$ or $x > 15$ region.\n",
    "In this case it makes sense to exclude these regions (as they only contain background) and\n",
    "focus on the $5 < x < 15$ area. This is a very rough analogy of a selection or filtering of\n",
    "our data sample. We always try to reduce our background (without reducing our signal).\n",
    "This is because the background tends to make our job of identifying the signal or carrying\n",
    "out related measurements more difficult.\n",
    "\n",
    "The next logical step is to evaluate the expected number of background events in the\n",
    "$5 < x < 15$ region. This can be done either analytically or numerically by using the background\n",
    "shape and the knowledge that the total number of expected background events in $0 < x < 20$ is $10,000$.\n",
    "The background fraction between $x = 5$ and $x = 15$ is $50%$,\n",
    "so the expected number of background events in this subregion is 5,000. Our\n",
    "problem has now been reduced to the one we dealt with earlier with the modified values\n",
    "$λ = 5,000$ and $k ≥ 5, 000 + 300 = 5, 300$."
   ]
  },
  {
   "cell_type": "markdown",
   "id": "ddcebaf8",
   "metadata": {},
   "source": [
    "First, confirm that the number of (expected) background events in the $5 < x < 15$\n",
    "subregion is 50%. Then, calculate the p-value and the Z-score as in the previous problem\n",
    "for the updated λ and k values. You will notice that the deviation is more significant\n",
    "now. Why?\n"
   ]
  },
  {
   "cell_type": "code",
   "execution_count": 9,
   "id": "bd7d72a2",
   "metadata": {},
   "outputs": [
    {
     "name": "stdout",
     "output_type": "stream",
     "text": [
      "The clipped data is 51.796116504854375% the length of the original data\n",
      "z-score: 4.4σ\n"
     ]
    }
   ],
   "source": [
    "# clip the signal to be in the desired region\n",
    "clipped_data = combined_data[combined_data > 5]\n",
    "clipped_data = clipped_data[clipped_data < 15]\n",
    "print(f\"The clipped data is {len(clipped_data) / len(combined_data) * 100}% the length of the original data\")\n",
    "_lambda = 5_000\n",
    "k = 5300\n",
    "sigma = _lambda\n",
    "mu = np.sqrt(sigma)\n",
    "g = Gaussian(sigma, mu)\n",
    "pvalue = g.integral(k, np.inf)[0]\n",
    "n_sigmas = erfinv(1 - pvalue) * np.sqrt(2)\n",
    "print(f\"z-score: {round(n_sigmas,2)}σ\")"
   ]
  },
  {
   "cell_type": "markdown",
   "id": "541768a2",
   "metadata": {},
   "source": [
    "The deviation is now more significant than before as we have reduced some of the background data by cutting off the regions which certainly do not contain the signal, making the signal more statistically significant."
   ]
  },
  {
   "cell_type": "markdown",
   "id": "c6ef7ac3",
   "metadata": {},
   "source": [
    "## Hypothesis testing: H0 vs. H1\n",
    "\n",
    "As discussed in the previous sections, the distribution shown at the bottom of Fig. 1\n",
    "appears to contain a small signal. We want to make a quantitative statement about\n",
    "how much better a model including a Gaussian signal ($H_1$) describes the distribution\n",
    "compared to the background-only linear model ($H_0$). Unlike the p-value description in\n",
    "the previous section, where a statement is made on the (im)probability that a background\n",
    "fluctuation can give a deviation (at least) as extreme as the one observed in the data, here\n",
    "the focus is on the comparison between two hypotheses: a model that contains a specific\n",
    "exotic signal (i.e. a Gaussian with fixed mean and sigma values) vs. one that contains\n",
    "background only. The first step of this comparison is to fit the “data” distribution to\n",
    "the two models, $H_1$ and $H_0$, and evaluate the difference of the corresponding χ2\n",
    "(or log-likelihood χ2-equivalent figure-of-merit) of the two fits.\n",
    "\n",
    "The $H_1$ fit is always expected to give a more satisfactory description of the “data” distribution than the $H_0$ fit because of the extra fit parameter(s): the more degrees of a\n",
    "freedom a function has, the better the match to the data. According to Wilk’s theorem, the difference $\\chi^2(H_0) − \\chi^2(H_1)$ asymptotically follows a χ2 distribution, with\n",
    "the number of degrees of freedom equal to the number of extra free parameters between\n",
    "the $H_1$ and $H_0$ fits. This is a very useful observation, as it allows one to evaluate the\n",
    "statistical significance of a deviation when fitted with two different models, without the\n",
    "need to generate large and CPU-expensive toy MC experiments. One of the necessary\n",
    "6 conditions for the theorem to be valid is that the two hypotheses must be “nested”,\n",
    "namely that one can arrive at the simple model ($H_0$) from the more complex one ($H_1$)\n",
    "by setting specific values for the extra parameters (e.g. by setting the Gaussian strength\n",
    "to zero).\n",
    "\n",
    "To see this in practice, we will run two fits on the spectrum with the observed deviation by using the functions that were employed to produce the signal and background\n",
    "distributions. We assume that we know precisely (i.e. with negligible uncertainties) the\n",
    "functional form for the signal, and that the background can be modelled by a linear\n",
    "function."
   ]
  },
  {
   "cell_type": "markdown",
   "id": "1a012949",
   "metadata": {},
   "source": [
    "In this example you should decrease the population of signal events to 150 (or ∼1.5%\n",
    "of the total sample). Despite having a weaker signal, the shape-based analysis provides\n",
    "a much more powerful statistical test than mere event-counting. You should carry out\n",
    "two fits on the same “data” histogram, one assuming no signal ($H_0$), and a second one\n",
    "assuming a signal ($H_1$) of uknown size (but with fixed mean and sigma values). In both\n",
    "fits the shape of the background distribution (slope and intercept) should be free to vary.\n",
    "Find the difference in the (log-likelihood-equivalent) χ2 between the $H_0$ and $H_1$ fits. Since the difference in the number of degress of freedom\n",
    "between the two models is just one (the size of the signal contribution),\n",
    "you should use this information and Wilk’s theorem\n",
    "to calculate the p-value and the Z-score (method ``scipy.stats.chi2.cdf`` can be used\n",
    "here).\n"
   ]
  },
  {
   "cell_type": "code",
   "execution_count": 31,
   "id": "08ee1e62",
   "metadata": {},
   "outputs": [
    {
     "name": "stdout",
     "output_type": "stream",
     "text": [
      "[-1.78717589e-16 -2.29374019e-16 -2.94375290e-16 -3.77779518e-16\n",
      " -4.84791635e-16 -6.22087105e-16 -7.98226910e-16 -1.02418950e-15\n",
      " -1.31405266e-15 -1.68586736e-15 -2.16277783e-15 -2.77445682e-15\n",
      " -3.55894484e-15 -4.56500690e-15 -5.85515200e-15 -7.50950158e-15\n",
      " -9.63074539e-15 -1.23504896e-14 -1.58373881e-14 -2.03075566e-14\n",
      " -2.60379104e-14 -3.33832431e-14 -4.27980967e-14 -5.48647621e-14\n",
      " -7.03291279e-14 -9.01465712e-14 -1.15540699e-13 -1.48078536e-13\n",
      " -1.89766740e-13 -2.43174745e-13 -3.11592310e-13 -3.99231107e-13\n",
      " -5.11482615e-13 -6.55248006e-13 -8.39360094e-13 -1.07512298e-12\n",
      " -1.37700212e-12 -1.76350673e-12 -2.25831788e-12 -2.89173064e-12\n",
      " -3.70249748e-12 -4.74018420e-12 -6.06818060e-12 -7.76754742e-12\n",
      " -9.94193106e-12 -1.27238419e-11 -1.62826729e-11 -2.08349411e-11\n",
      " -2.66573633e-11 -3.41035518e-11 -4.36253262e-11 -5.57999152e-11\n",
      " -7.13646696e-11 -9.12613555e-11 -1.16692660e-10 -1.49194270e-10\n",
      " -1.90726789e-10 -2.43792949e-10 -3.11587038e-10 -3.98185361e-10\n",
      " -5.08788980e-10 -6.50032982e-10 -8.30380478e-10 -1.06062441e-09\n",
      " -1.35452653e-09 -1.72963092e-09 -2.20829941e-09 -2.81902922e-09\n",
      " -3.59812926e-09 -4.59185228e-09 -5.85910607e-09 -7.47490012e-09\n",
      " -9.53472607e-09 -1.21601233e-08 -1.55057487e-08 -1.97683531e-08\n",
      " -2.51981778e-08 -3.21134156e-08 -4.09185571e-08 -5.21276566e-08\n",
      " -6.63938271e-08 -8.45466176e-08 -1.07639362e-07 -1.37009134e-07\n",
      " -1.74352635e-07 -2.21822206e-07 -2.82147243e-07 -3.58787671e-07\n",
      " -4.56127837e-07 -5.79721349e-07 -7.36600070e-07 -9.35663865e-07\n",
      " -1.18817191e-06 -1.50836164e-06 -1.91422797e-06 -2.42850366e-06\n",
      " -3.07989176e-06 -3.90461382e-06 -4.94835322e-06 -6.26869215e-06]\n"
     ]
    },
    {
     "name": "stderr",
     "output_type": "stream",
     "text": [
      "C:\\Users\\Gamer2021\\anaconda3\\envs\\daml\\lib\\site-packages\\scipy\\optimize\\minpack.py:834: OptimizeWarning: Covariance of the parameters could not be estimated\n",
      "  category=OptimizeWarning)\n"
     ]
    }
   ],
   "source": [
    "# reduce the number of signal events\n",
    "# signal parameters\n",
    "mean = 10.\n",
    "sigma = 0.5\n",
    "combined_data = singleToy(mean, sigma, intercept, slope, XMIN, XMAX, NBINS, 300)\n",
    "# clip the signal to be in the desired region\n",
    "clipped_data = combined_data[combined_data > 5]\n",
    "clipped_data = clipped_data[clipped_data < 15]\n",
    "# simple model (linear background, no signal)\n",
    "def h0(x, intercept, slope):\n",
    "    return intercept + x * slope\n",
    "\n",
    "# complex model (linear background, gaussian signal)\n",
    "def h1(x, intercept, slope, mean, sigma):\n",
    "    return h0(x, intercept, slope) + norm.pdf(x, mean, sigma)\n",
    "plt.close()\n",
    "xs = np.linspace(5, 15, NBINS)\n",
    "ys = np.histogram(clipped_data, NBINS)[0]\n",
    "h0_fit = curve_fit(h0, xs, ys)[0]\n",
    "h1_fit = curve_fit(h1, xs, ys)[0]\n",
    "chi_h0 = chi2.pdf(h0(xs, *h0_fit), 2)\n",
    "chi_h1 = chi2.pdf(h1(xs, *h1_fit), 4)\n",
    "# not really sure where to go from here"
   ]
  }
 ],
 "metadata": {
  "kernelspec": {
   "display_name": "Python 3 (ipykernel)",
   "language": "python",
   "name": "python3"
  },
  "language_info": {
   "codemirror_mode": {
    "name": "ipython",
    "version": 3
   },
   "file_extension": ".py",
   "mimetype": "text/x-python",
   "name": "python",
   "nbconvert_exporter": "python",
   "pygments_lexer": "ipython3",
   "version": "3.7.12"
  }
 },
 "nbformat": 4,
 "nbformat_minor": 5
}
