{
 "cells": [
  {
   "cell_type": "markdown",
   "id": "2f38c723",
   "metadata": {},
   "source": [
    "# Checkpoint 4: Simple Monte Carlo Generation of Pseudo Experiments\n"
   ]
  },
  {
   "cell_type": "markdown",
   "id": "25e748c1",
   "metadata": {},
   "source": [
    "## Preamble"
   ]
  },
  {
   "cell_type": "code",
   "execution_count": 11,
   "id": "f5c6afb2",
   "metadata": {},
   "outputs": [],
   "source": [
    "import numpy as np\n",
    "from matplotlib import pyplot as plt\n",
    "import time"
   ]
  },
  {
   "cell_type": "markdown",
   "id": "c5f57661",
   "metadata": {},
   "source": [
    "## Simulating 1000 muon decays"
   ]
  },
  {
   "cell_type": "code",
   "execution_count": 26,
   "id": "a1783ef1",
   "metadata": {},
   "outputs": [
    {
     "name": "stdout",
     "output_type": "stream",
     "text": [
      "time to complete (s): 0.0041586000002098444\n",
      "estimated lifetime: 2.05\n"
     ]
    },
    {
     "data": {
      "image/png": "[encoded data removed]",
      "text/plain": [
       "<Figure size 432x288 with 1 Axes>"
      ]
     },
     "metadata": {
      "needs_background": "light"
     },
     "output_type": "display_data"
    }
   ],
   "source": [
    "# using the inverse cumulative method over the range 0-10\n",
    "\n",
    "def inverse_cum(high, tau):\n",
    "\n",
    "    def cum_func(t):\n",
    "        return 1 - np.exp(-t / tau)\n",
    "    def inverse(y):\n",
    "        return - tau * np.log(1 - y)\n",
    "\n",
    "    # generate a random number in the range [g(a), g(b)]\n",
    "    y = np.random.uniform()*cum_func(high)\n",
    "    return inverse(y)\n",
    "start = time.perf_counter()\n",
    "randoms = [inverse_cum(10, 2.2) for _ in range(1000)]\n",
    "print(\"time to complete (s):\", time.perf_counter() - start)\n",
    "plt.hist(randoms, bins=20)\n",
    "print(\"estimated lifetime:\", round(np.mean(randoms),2))"
   ]
  },
  {
   "cell_type": "code",
   "execution_count": 30,
   "id": "366f377b",
   "metadata": {},
   "outputs": [
    {
     "name": "stdout",
     "output_type": "stream",
     "text": [
      "time to complete (s): 0.0003999999998995918\n",
      "estimated lifetime: 2.0\n"
     ]
    },
    {
     "data": {
      "image/png": "[encoded data removed]",
      "text/plain": [
       "<Figure size 432x288 with 1 Axes>"
      ]
     },
     "metadata": {
      "needs_background": "light"
     },
     "output_type": "display_data"
    }
   ],
   "source": [
    "# using the number exponential generator \n",
    "\n",
    "tau = 2.2\n",
    "generator = np.random.default_rng()\n",
    "start = time.perf_counter()\n",
    "randoms = generator.exponential(tau, 1000)\n",
    "# set the distribution in the range 0->10\n",
    "while np.any(randoms > 10):\n",
    "    randoms[randoms > 10] = generator.exponential(tau)\n",
    "print(\"time to complete (s):\", time.perf_counter() - start)\n",
    "plt.hist(randoms, bins=20)\n",
    "print(\"estimated lifetime:\", round(np.mean(randoms),2))"
   ]
  },
  {
   "cell_type": "markdown",
   "id": "f007e0e3",
   "metadata": {},
   "source": [
    "Both methods produce estimates lower than the actual value of 2.2 due to the limited range over which the results are generated. In fact, removing the code to clamp the numpy distribution produces an estimate of the lifetime much closer to 2.2. It is not possible to generate values up to infinity to the result will always be less than the actual value"
   ]
  }
 ],
 "metadata": {
  "kernelspec": {
   "display_name": "Python 3 (ipykernel)",
   "language": "python",
   "name": "python3"
  },
  "language_info": {
   "codemirror_mode": {
    "name": "ipython",
    "version": 3
   },
   "file_extension": ".py",
   "mimetype": "text/x-python",
   "name": "python",
   "nbconvert_exporter": "python",
   "pygments_lexer": "ipython3",
   "version": "3.7.12"
  }
 },
 "nbformat": 4,
 "nbformat_minor": 5
}
